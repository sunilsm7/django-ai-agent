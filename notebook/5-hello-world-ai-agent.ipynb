{
 "cells": [
  {
   "cell_type": "code",
   "execution_count": 1,
   "id": "6c5f2342",
   "metadata": {},
   "outputs": [],
   "source": [
    "import setup  # notebooks/setup.py\n",
    "setup.init()"
   ]
  },
  {
   "cell_type": "code",
   "execution_count": 2,
   "id": "7c8e1129",
   "metadata": {},
   "outputs": [],
   "source": [
    "import uuid"
   ]
  },
  {
   "cell_type": "code",
   "execution_count": 3,
   "id": "3109613a",
   "metadata": {},
   "outputs": [],
   "source": [
    "from ai.agents import get_document_agent"
   ]
  },
  {
   "cell_type": "code",
   "execution_count": 4,
   "id": "db8d5327",
   "metadata": {},
   "outputs": [],
   "source": [
    "agent = get_document_agent()"
   ]
  },
  {
   "cell_type": "code",
   "execution_count": 5,
   "id": "47e67ba9",
   "metadata": {},
   "outputs": [],
   "source": [
    "thread_id = str(uuid.uuid4())\n",
    "config = {\"configurable\": {\"user_id\": \"2\", \"thread_id\": thread_id}}\n",
    "response = agent.invoke(\n",
    "    {\"messages\": [{\"role\": \"user\", \"content\": \"what are my recent documents\"}]}, config)"
   ]
  },
  {
   "cell_type": "code",
   "execution_count": 6,
   "id": "86b77a54",
   "metadata": {},
   "outputs": [
    {
     "name": "stdout",
     "output_type": "stream",
     "text": [
      "what are my recent documents\n",
      "\n",
      "[{\"id\": 7, \"title\": \"Hello World Document\"}, {\"id\": 6, \"title\": \"Test Document\"}, {\"id\": 5, \"title\": \"Hello World Document\"}, {\"id\": 4, \"title\": \"Test Document\"}, {\"id\": 3, \"title\": \"Hello World Document\"}]\n",
      "Here are your most recent documents:\n",
      "\n",
      "1. **Hello World Document** (ID: 7)\n",
      "2. **Test Document** (ID: 6)\n",
      "3. **Hello World Document** (ID: 5)\n",
      "4. **Test Document** (ID: 4)\n",
      "5. **Hello World Document** (ID: 3)\n"
     ]
    }
   ],
   "source": [
    "for msg in response['messages']:\n",
    "    print(msg.content)"
   ]
  },
  {
   "cell_type": "code",
   "execution_count": 7,
   "id": "8788e185",
   "metadata": {},
   "outputs": [
    {
     "data": {
      "text/plain": [
       "'Here are your most recent documents:\\n\\n1. **Hello World Document** (ID: 7)\\n2. **Test Document** (ID: 6)\\n3. **Hello World Document** (ID: 5)\\n4. **Test Document** (ID: 4)\\n5. **Hello World Document** (ID: 3)'"
      ]
     },
     "execution_count": 7,
     "metadata": {},
     "output_type": "execute_result"
    }
   ],
   "source": [
    "response['messages'][-1].content"
   ]
  }
 ],
 "metadata": {
  "kernelspec": {
   "display_name": "venv",
   "language": "python",
   "name": "python3"
  },
  "language_info": {
   "codemirror_mode": {
    "name": "ipython",
    "version": 3
   },
   "file_extension": ".py",
   "mimetype": "text/x-python",
   "name": "python",
   "nbconvert_exporter": "python",
   "pygments_lexer": "ipython3",
   "version": "3.13.5"
  }
 },
 "nbformat": 4,
 "nbformat_minor": 5
}
