{
 "cells": [
  {
   "cell_type": "code",
   "execution_count": null,
   "id": "7b309385",
   "metadata": {},
   "outputs": [],
   "source": [
    "import setup  # notebooks/setup.py\n",
    "setup.init()"
   ]
  },
  {
   "cell_type": "code",
   "execution_count": null,
   "id": "6eeac989",
   "metadata": {},
   "outputs": [],
   "source": [
    "from tmdb import client as tmdb_client"
   ]
  },
  {
   "cell_type": "code",
   "execution_count": null,
   "id": "6e4244ca",
   "metadata": {},
   "outputs": [],
   "source": [
    "response = tmdb_client.search_movie(\"Mission Impossible\")\n",
    "results = response.get(\"results\")\n",
    "movie_id = results[0].get('id')\n"
   ]
  },
  {
   "cell_type": "code",
   "execution_count": null,
   "id": "3039e1e8",
   "metadata": {},
   "outputs": [],
   "source": [
    "detail_response = tmdb_client.movie_detail(movie_id)\n",
    "detail_response"
   ]
  }
 ],
 "metadata": {
  "kernelspec": {
   "display_name": "venv",
   "language": "python",
   "name": "python3"
  },
  "language_info": {
   "codemirror_mode": {
    "name": "ipython",
    "version": 3
   },
   "file_extension": ".py",
   "mimetype": "text/x-python",
   "name": "python",
   "nbconvert_exporter": "python",
   "pygments_lexer": "ipython3",
   "version": "3.13.5"
  }
 },
 "nbformat": 4,
 "nbformat_minor": 5
}
