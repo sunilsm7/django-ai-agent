{
 "cells": [
  {
   "cell_type": "code",
   "execution_count": null,
   "id": "7b309385",
   "metadata": {},
   "outputs": [],
   "source": [
    "import setup  # notebooks/setup.py\n",
    "setup.init()"
   ]
  },
  {
   "cell_type": "code",
   "execution_count": null,
   "id": "9a39ef95",
   "metadata": {},
   "outputs": [],
   "source": [
    "import uuid"
   ]
  },
  {
   "cell_type": "code",
   "execution_count": null,
   "id": "6eeac989",
   "metadata": {},
   "outputs": [],
   "source": [
    "# from tmdb import client as tmdb_client"
   ]
  },
  {
   "cell_type": "code",
   "execution_count": null,
   "id": "6e4244ca",
   "metadata": {},
   "outputs": [],
   "source": [
    "# response = tmdb_client.search_movie(\"Mission Impossible\")\n",
    "# results = response.get(\"results\")\n",
    "# movie_id = results[0].get('id')\n"
   ]
  },
  {
   "cell_type": "code",
   "execution_count": null,
   "id": "3039e1e8",
   "metadata": {},
   "outputs": [],
   "source": [
    "# detail_response = tmdb_client.movie_detail(movie_id)\n",
    "# detail_response"
   ]
  },
  {
   "cell_type": "code",
   "execution_count": null,
   "id": "ab009326",
   "metadata": {},
   "outputs": [],
   "source": [
    "from ai.agents import get_movie_discovery_agent\n",
    "from langgraph.checkpoint.memory import InMemorySaver\n",
    "checkpointer = InMemorySaver()\n",
    "agent = get_movie_discovery_agent(checkpointer=checkpointer)"
   ]
  },
  {
   "cell_type": "code",
   "execution_count": null,
   "id": "a13a24a5",
   "metadata": {},
   "outputs": [],
   "source": [
    "thread_id = str(uuid.uuid4())\n",
    "config = {\"configurable\": {\"user_id\": \"2\", \"thread_id\": thread_id}}\n",
    "response = agent.invoke(\n",
    "    {\"messages\": [{\"role\": \"user\", \"content\": \"Tell me about the lord of the rigns movie\"}]}, config)\n",
    "\n",
    "response['messages'][-1].content"
   ]
  }
 ],
 "metadata": {
  "kernelspec": {
   "display_name": "venv",
   "language": "python",
   "name": "python3"
  },
  "language_info": {
   "codemirror_mode": {
    "name": "ipython",
    "version": 3
   },
   "file_extension": ".py",
   "mimetype": "text/x-python",
   "name": "python",
   "nbconvert_exporter": "python",
   "pygments_lexer": "ipython3",
   "version": "3.13.5"
  }
 },
 "nbformat": 4,
 "nbformat_minor": 5
}
