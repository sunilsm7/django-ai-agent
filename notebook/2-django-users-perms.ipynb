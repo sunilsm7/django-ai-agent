{
 "cells": [
  {
   "cell_type": "code",
   "execution_count": 5,
   "metadata": {},
   "outputs": [],
   "source": [
    "import setup  # notebooks/setup.py\n",
    "setup.init()"
   ]
  },
  {
   "cell_type": "code",
   "execution_count": 6,
   "metadata": {},
   "outputs": [
    {
     "data": {
      "text/plain": [
       "<QuerySet [<User: sunil>, <User: admin>]>"
      ]
     },
     "execution_count": 6,
     "metadata": {},
     "output_type": "execute_result"
    }
   ],
   "source": [
    "from django.contrib.auth import get_user_model\n",
    "\n",
    "User = get_user_model()\n",
    "\n",
    "# list -> get \n",
    "User.objects.all()\n"
   ]
  },
  {
   "cell_type": "code",
   "execution_count": 8,
   "metadata": {},
   "outputs": [
    {
     "data": {
      "text/plain": [
       "True"
      ]
     },
     "execution_count": 8,
     "metadata": {},
     "output_type": "execute_result"
    }
   ],
   "source": [
    "user_obj = User.objects.get(\n",
    "    username=\"admin\"\n",
    ")\n",
    "user_obj.is_staff = True # can login to Djanngo admin or not\n",
    "\n",
    "# django form -> html form -> api request\n",
    "user_obj.set_password(\"abc123007\")\n",
    "\n",
    "user_obj.save()\n",
    "user_obj.is_staff"
   ]
  },
  {
   "cell_type": "code",
   "execution_count": 9,
   "metadata": {},
   "outputs": [
    {
     "data": {
      "text/plain": [
       "<QuerySet []>"
      ]
     },
     "execution_count": 9,
     "metadata": {},
     "output_type": "execute_result"
    }
   ],
   "source": [
    "user_obj.user_permissions.all()"
   ]
  },
  {
   "cell_type": "code",
   "execution_count": 13,
   "metadata": {},
   "outputs": [
    {
     "name": "stdout",
     "output_type": "stream",
     "text": [
      "add_logentry\n",
      "change_logentry\n",
      "delete_logentry\n",
      "view_logentry\n",
      "add_group\n",
      "change_group\n",
      "delete_group\n",
      "view_group\n",
      "add_permission\n",
      "change_permission\n",
      "delete_permission\n",
      "view_permission\n",
      "add_user\n",
      "change_user\n",
      "delete_user\n",
      "view_user\n",
      "add_contenttype\n",
      "change_contenttype\n",
      "delete_contenttype\n",
      "view_contenttype\n",
      "add_document\n",
      "change_document\n",
      "delete_document\n",
      "view_document\n",
      "add_session\n",
      "change_session\n",
      "delete_session\n",
      "view_session\n"
     ]
    }
   ],
   "source": [
    "from django.contrib.auth.models import Permission\n",
    "\n",
    "perm_qs = Permission.objects.all()\n",
    "for perm in perm_qs:\n",
    "    print(perm.codename)\n"
   ]
  },
  {
   "cell_type": "code",
   "execution_count": 15,
   "metadata": {},
   "outputs": [
    {
     "name": "stdout",
     "output_type": "stream",
     "text": [
      "view_logentry\n",
      "view_group\n",
      "view_permission\n",
      "view_user\n",
      "view_contenttype\n",
      "view_document\n",
      "view_session\n"
     ]
    }
   ],
   "source": [
    "perm_qs = Permission.objects.filter(codename__icontains='View')\n",
    "for perm in perm_qs:\n",
    "    print(perm.codename)"
   ]
  },
  {
   "cell_type": "code",
   "execution_count": null,
   "metadata": {},
   "outputs": [],
   "source": []
  }
 ],
 "metadata": {
  "kernelspec": {
   "display_name": "venv",
   "language": "python",
   "name": "python3"
  },
  "language_info": {
   "codemirror_mode": {
    "name": "ipython",
    "version": 3
   },
   "file_extension": ".py",
   "mimetype": "text/x-python",
   "name": "python",
   "nbconvert_exporter": "python",
   "pygments_lexer": "ipython3",
   "version": "3.13.5"
  }
 },
 "nbformat": 4,
 "nbformat_minor": 2
}
