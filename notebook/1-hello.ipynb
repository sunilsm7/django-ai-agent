{
 "cells": [
  {
   "cell_type": "code",
   "execution_count": 1,
   "id": "d9725a92",
   "metadata": {},
   "outputs": [],
   "source": [
    "# notebooks/setup.py\n",
    "\n",
    "import setup\n",
    "setup.init()"
   ]
  },
  {
   "cell_type": "code",
   "execution_count": 2,
   "id": "c0b9e71a",
   "metadata": {},
   "outputs": [],
   "source": [
    "from django.contrib.auth import get_user_model\n",
    "User = get_user_model()"
   ]
  },
  {
   "cell_type": "code",
   "execution_count": 3,
   "id": "9bfb71a7",
   "metadata": {},
   "outputs": [
    {
     "name": "stdout",
     "output_type": "stream",
     "text": [
      "<QuerySet [<User: sunil>, <User: admin>]>\n"
     ]
    }
   ],
   "source": [
    "# get all users\n",
    "users = User.objects.all()\n",
    "print(users)"
   ]
  },
  {
   "cell_type": "code",
   "execution_count": 4,
   "id": "6697e8f7",
   "metadata": {},
   "outputs": [
    {
     "name": "stdout",
     "output_type": "stream",
     "text": [
      "admin\n"
     ]
    }
   ],
   "source": [
    "try:\n",
    "    user_obj = User.objects.create(username=\"admin\", password=\"admin\")\n",
    "except Exception:\n",
    "    user_obj = User.objects.get(username=\"admin\")\n",
    "    \n",
    "print(user_obj)"
   ]
  },
  {
   "cell_type": "code",
   "execution_count": 5,
   "id": "701cb1eb",
   "metadata": {},
   "outputs": [
    {
     "name": "stdout",
     "output_type": "stream",
     "text": [
      "admin@admin.com\n"
     ]
    }
   ],
   "source": [
    "user_obj.email = 'admin@admin.com'\n",
    "user_obj.save()\n",
    "print(user_obj.email)"
   ]
  },
  {
   "cell_type": "code",
   "execution_count": 6,
   "id": "72eb2dc8",
   "metadata": {},
   "outputs": [
    {
     "name": "stdout",
     "output_type": "stream",
     "text": [
      "Test Document\n"
     ]
    }
   ],
   "source": [
    "from documents.models import Document\n",
    "\n",
    "doc = Document.objects.create(owner=user_obj, title=\"Test Document\")\n",
    "print(doc)"
   ]
  },
  {
   "cell_type": "code",
   "execution_count": 7,
   "id": "8bde1f7d",
   "metadata": {},
   "outputs": [
    {
     "name": "stdout",
     "output_type": "stream",
     "text": [
      "Hello World Document\n"
     ]
    }
   ],
   "source": [
    "doc_obj = Document(owner=user_obj, title=\"Hello World Document\", content=\"This is a test document\")\n",
    "doc_obj.save()\n",
    "print(doc_obj)"
   ]
  },
  {
   "cell_type": "code",
   "execution_count": 8,
   "id": "d31ab4b4",
   "metadata": {},
   "outputs": [],
   "source": [
    "user_obj = User.objects.get(username=\"sunil\")"
   ]
  },
  {
   "cell_type": "code",
   "execution_count": 13,
   "id": "6207a6ec",
   "metadata": {},
   "outputs": [
    {
     "name": "stdout",
     "output_type": "stream",
     "text": [
      "<QuerySet [<Document: Test Document>, <Document: Test Document>, <Document: Hello World Document>, <Document: Test Document>, <Document: Hello World Document>, <Document: Test Document>, <Document: Hello World Document>]>\n"
     ]
    }
   ],
   "source": [
    "doc_qs = Document.objects.filter(owner_id='2')\n",
    "print(doc_qs)"
   ]
  }
 ],
 "metadata": {
  "kernelspec": {
   "display_name": "venv",
   "language": "python",
   "name": "python3"
  },
  "language_info": {
   "codemirror_mode": {
    "name": "ipython",
    "version": 3
   },
   "file_extension": ".py",
   "mimetype": "text/x-python",
   "name": "python",
   "nbconvert_exporter": "python",
   "pygments_lexer": "ipython3",
   "version": "3.13.5"
  }
 },
 "nbformat": 4,
 "nbformat_minor": 5
}
