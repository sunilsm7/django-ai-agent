{
 "cells": [
  {
   "cell_type": "code",
   "execution_count": 3,
   "id": "d9725a92",
   "metadata": {},
   "outputs": [
    {
     "name": "stdout",
     "output_type": "stream",
     "text": [
      "hello again 1\n"
     ]
    }
   ],
   "source": [
    "print('hello again 1')"
   ]
  },
  {
   "cell_type": "code",
   "execution_count": 4,
   "id": "9bfb71a7",
   "metadata": {},
   "outputs": [
    {
     "ename": "ImproperlyConfigured",
     "evalue": "Requested setting AUTH_USER_MODEL, but settings are not configured. You must either define the environment variable DJANGO_SETTINGS_MODULE or call settings.configure() before accessing settings.",
     "output_type": "error",
     "traceback": [
      "\u001b[31m---------------------------------------------------------------------------\u001b[39m",
      "\u001b[31mImproperlyConfigured\u001b[39m                      Traceback (most recent call last)",
      "\u001b[36mCell\u001b[39m\u001b[36m \u001b[39m\u001b[32mIn[4]\u001b[39m\u001b[32m, line 2\u001b[39m\n\u001b[32m      1\u001b[39m \u001b[38;5;28;01mfrom\u001b[39;00m\u001b[38;5;250m \u001b[39m\u001b[34;01mdjango\u001b[39;00m\u001b[34;01m.\u001b[39;00m\u001b[34;01mcontrib\u001b[39;00m\u001b[34;01m.\u001b[39;00m\u001b[34;01mauth\u001b[39;00m\u001b[38;5;250m \u001b[39m\u001b[38;5;28;01mimport\u001b[39;00m get_user_model\n\u001b[32m----> \u001b[39m\u001b[32m2\u001b[39m User = \u001b[43mget_user_model\u001b[49m\u001b[43m(\u001b[49m\u001b[43m)\u001b[49m\n\u001b[32m      4\u001b[39m users = User.objects.all()\n\u001b[32m      5\u001b[39m \u001b[38;5;28mprint\u001b[39m(users)\n",
      "\u001b[36mFile \u001b[39m\u001b[32m~/Projects/projects/django-ai-agents/venv/lib/python3.13/site-packages/django/contrib/auth/__init__.py:283\u001b[39m, in \u001b[36mget_user_model\u001b[39m\u001b[34m()\u001b[39m\n\u001b[32m    279\u001b[39m \u001b[38;5;250m\u001b[39m\u001b[33;03m\"\"\"\u001b[39;00m\n\u001b[32m    280\u001b[39m \u001b[33;03mReturn the User model that is active in this project.\u001b[39;00m\n\u001b[32m    281\u001b[39m \u001b[33;03m\"\"\"\u001b[39;00m\n\u001b[32m    282\u001b[39m \u001b[38;5;28;01mtry\u001b[39;00m:\n\u001b[32m--> \u001b[39m\u001b[32m283\u001b[39m     \u001b[38;5;28;01mreturn\u001b[39;00m django_apps.get_model(\u001b[43msettings\u001b[49m\u001b[43m.\u001b[49m\u001b[43mAUTH_USER_MODEL\u001b[49m, require_ready=\u001b[38;5;28;01mFalse\u001b[39;00m)\n\u001b[32m    284\u001b[39m \u001b[38;5;28;01mexcept\u001b[39;00m \u001b[38;5;167;01mValueError\u001b[39;00m:\n\u001b[32m    285\u001b[39m     \u001b[38;5;28;01mraise\u001b[39;00m ImproperlyConfigured(\n\u001b[32m    286\u001b[39m         \u001b[33m\"\u001b[39m\u001b[33mAUTH_USER_MODEL must be of the form \u001b[39m\u001b[33m'\u001b[39m\u001b[33mapp_label.model_name\u001b[39m\u001b[33m'\u001b[39m\u001b[33m\"\u001b[39m\n\u001b[32m    287\u001b[39m     )\n",
      "\u001b[36mFile \u001b[39m\u001b[32m~/Projects/projects/django-ai-agents/venv/lib/python3.13/site-packages/django/conf/__init__.py:81\u001b[39m, in \u001b[36mLazySettings.__getattr__\u001b[39m\u001b[34m(self, name)\u001b[39m\n\u001b[32m     79\u001b[39m \u001b[38;5;250m\u001b[39m\u001b[33;03m\"\"\"Return the value of a setting and cache it in self.__dict__.\"\"\"\u001b[39;00m\n\u001b[32m     80\u001b[39m \u001b[38;5;28;01mif\u001b[39;00m (_wrapped := \u001b[38;5;28mself\u001b[39m._wrapped) \u001b[38;5;129;01mis\u001b[39;00m empty:\n\u001b[32m---> \u001b[39m\u001b[32m81\u001b[39m     \u001b[38;5;28;43mself\u001b[39;49m\u001b[43m.\u001b[49m\u001b[43m_setup\u001b[49m\u001b[43m(\u001b[49m\u001b[43mname\u001b[49m\u001b[43m)\u001b[49m\n\u001b[32m     82\u001b[39m     _wrapped = \u001b[38;5;28mself\u001b[39m._wrapped\n\u001b[32m     83\u001b[39m val = \u001b[38;5;28mgetattr\u001b[39m(_wrapped, name)\n",
      "\u001b[36mFile \u001b[39m\u001b[32m~/Projects/projects/django-ai-agents/venv/lib/python3.13/site-packages/django/conf/__init__.py:61\u001b[39m, in \u001b[36mLazySettings._setup\u001b[39m\u001b[34m(self, name)\u001b[39m\n\u001b[32m     59\u001b[39m \u001b[38;5;28;01mif\u001b[39;00m \u001b[38;5;129;01mnot\u001b[39;00m settings_module:\n\u001b[32m     60\u001b[39m     desc = (\u001b[33m\"\u001b[39m\u001b[33msetting \u001b[39m\u001b[38;5;132;01m%s\u001b[39;00m\u001b[33m\"\u001b[39m % name) \u001b[38;5;28;01mif\u001b[39;00m name \u001b[38;5;28;01melse\u001b[39;00m \u001b[33m\"\u001b[39m\u001b[33msettings\u001b[39m\u001b[33m\"\u001b[39m\n\u001b[32m---> \u001b[39m\u001b[32m61\u001b[39m     \u001b[38;5;28;01mraise\u001b[39;00m ImproperlyConfigured(\n\u001b[32m     62\u001b[39m         \u001b[33m\"\u001b[39m\u001b[33mRequested \u001b[39m\u001b[38;5;132;01m%s\u001b[39;00m\u001b[33m, but settings are not configured. \u001b[39m\u001b[33m\"\u001b[39m\n\u001b[32m     63\u001b[39m         \u001b[33m\"\u001b[39m\u001b[33mYou must either define the environment variable \u001b[39m\u001b[38;5;132;01m%s\u001b[39;00m\u001b[33m \u001b[39m\u001b[33m\"\u001b[39m\n\u001b[32m     64\u001b[39m         \u001b[33m\"\u001b[39m\u001b[33mor call settings.configure() before accessing settings.\u001b[39m\u001b[33m\"\u001b[39m\n\u001b[32m     65\u001b[39m         % (desc, ENVIRONMENT_VARIABLE)\n\u001b[32m     66\u001b[39m     )\n\u001b[32m     68\u001b[39m \u001b[38;5;28mself\u001b[39m._wrapped = Settings(settings_module)\n",
      "\u001b[31mImproperlyConfigured\u001b[39m: Requested setting AUTH_USER_MODEL, but settings are not configured. You must either define the environment variable DJANGO_SETTINGS_MODULE or call settings.configure() before accessing settings."
     ]
    }
   ],
   "source": [
    "from django.contrib.auth import get_user_model\n",
    "User = get_user_model()\n",
    "\n",
    "users = User.objects.all()\n",
    "print(users)"
   ]
  }
 ],
 "metadata": {
  "kernelspec": {
   "display_name": "venv",
   "language": "python",
   "name": "python3"
  },
  "language_info": {
   "codemirror_mode": {
    "name": "ipython",
    "version": 3
   },
   "file_extension": ".py",
   "mimetype": "text/x-python",
   "name": "python",
   "nbconvert_exporter": "python",
   "pygments_lexer": "ipython3",
   "version": "3.13.5"
  }
 },
 "nbformat": 4,
 "nbformat_minor": 5
}
