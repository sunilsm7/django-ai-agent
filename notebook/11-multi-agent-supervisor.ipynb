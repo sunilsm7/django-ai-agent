{
 "cells": [
  {
   "cell_type": "code",
   "execution_count": null,
   "id": "7b309385",
   "metadata": {},
   "outputs": [],
   "source": [
    "import setup  # notebooks/setup.py\n",
    "setup.init()"
   ]
  },
  {
   "cell_type": "code",
   "execution_count": null,
   "id": "9a39ef95",
   "metadata": {},
   "outputs": [],
   "source": [
    "import uuid"
   ]
  },
  {
   "cell_type": "code",
   "execution_count": null,
   "id": "6eeac989",
   "metadata": {},
   "outputs": [],
   "source": [
    "from ai.supervisors import get_supervisor\n",
    "from django.contrib.auth import get_user_model\n",
    "from langgraph.checkpoint.memory import InMemorySaver \n"
   ]
  },
  {
   "cell_type": "code",
   "execution_count": null,
   "id": "6e4244ca",
   "metadata": {},
   "outputs": [],
   "source": [
    "\t\n",
    "User = get_user_model()\n",
    "user_a = User.objects.get(id=2)\n",
    "user_a"
   ]
  },
  {
   "cell_type": "code",
   "execution_count": null,
   "id": "3039e1e8",
   "metadata": {},
   "outputs": [],
   "source": [
    "checkpointer = InMemorySaver()\n",
    "supervisor = get_supervisor(model=\"gpt-4o\", checkpointer=checkpointer)\n"
   ]
  },
  {
   "cell_type": "code",
   "execution_count": null,
   "id": "ab009326",
   "metadata": {},
   "outputs": [],
   "source": [
    "from ai.agents import get_movie_discovery_agent\n",
    "from langgraph.checkpoint.memory import InMemorySaver\n",
    "checkpointer = InMemorySaver()\n",
    "agent = get_movie_discovery_agent(checkpointer=checkpointer)"
   ]
  },
  {
   "cell_type": "code",
   "execution_count": null,
   "id": "a13a24a5",
   "metadata": {},
   "outputs": [],
   "source": [
    "config = {\"configurable\": {\"user_id\": f\"{user_a.id}\", \"thread_id\": uuid.uuid4()}}"
   ]
  },
  {
   "cell_type": "code",
   "execution_count": null,
   "id": "c67cdce1",
   "metadata": {},
   "outputs": [],
   "source": [
    "response = supervisor.invoke(\n",
    "    {\"messages\": \n",
    "        [\n",
    "            {\"role\": \"user\", \"content\": \"What is the most recent Lord of the Rings movie?\"}\n",
    "        ]\n",
    "    },\n",
    "    config\n",
    ")\n"
   ]
  },
  {
   "cell_type": "code",
   "execution_count": null,
   "id": "0ec6ebce",
   "metadata": {},
   "outputs": [],
   "source": [
    "from IPython.display import display, Markdown\n",
    "display(Markdown(response['messages'][-1].content))\n"
   ]
  },
  {
   "cell_type": "code",
   "execution_count": null,
   "id": "9bf0851e",
   "metadata": {},
   "outputs": [],
   "source": [
    "response = supervisor.invoke(\n",
    "    {\"messages\": \n",
    "        [\n",
    "            {\"role\": \"user\", \"content\": \"I've updated permissions. Try to save it again.\"}\n",
    "        ]\n",
    "    },\n",
    "    config\n",
    ")\n"
   ]
  },
  {
   "cell_type": "code",
   "execution_count": null,
   "id": "1d303ee1",
   "metadata": {},
   "outputs": [],
   "source": [
    "from IPython.display import display, Markdown\n",
    "display(Markdown(response['messages'][-1].content))"
   ]
  },
  {
   "cell_type": "code",
   "execution_count": null,
   "id": "efd210c8",
   "metadata": {},
   "outputs": [],
   "source": [
    "response = supervisor.invoke(\n",
    "    {\"messages\": \n",
    "        [\n",
    "            {\"role\": \"user\", \"content\": \"It is not called Mission: Impossible - Dead Reckoning not Mission: Impossible - Dead Reckoning Part One they changed it. Update the correct document to reflect that\"}\n",
    "        ]\n",
    "    },\n",
    "    config\n",
    ")"
   ]
  },
  {
   "cell_type": "code",
   "execution_count": null,
   "id": "a3c16481",
   "metadata": {},
   "outputs": [],
   "source": [
    "from IPython.display import display, Markdown\n",
    "display(Markdown(response['messages'][-1].content))\n"
   ]
  },
  {
   "cell_type": "code",
   "execution_count": null,
   "id": "64760e11",
   "metadata": {},
   "outputs": [],
   "source": [
    "for msg in response['messages']:\n",
    "    print(msg)\n"
   ]
  },
  {
   "cell_type": "code",
   "execution_count": null,
   "id": "e83cc6aa",
   "metadata": {},
   "outputs": [],
   "source": [
    "response = supervisor.invoke(\n",
    "    {\"messages\": \n",
    "        [\n",
    "            {\"role\": \"user\", \"content\": \"I want the content for documents to be a summary of the movie itself not raw data like you have\"}\n",
    "        ]\n",
    "    },\n",
    "    config\n",
    ")\n"
   ]
  },
  {
   "cell_type": "code",
   "execution_count": null,
   "id": "e665d999",
   "metadata": {},
   "outputs": [],
   "source": [
    "response['messages'][-1].content\n"
   ]
  },
  {
   "cell_type": "code",
   "execution_count": null,
   "id": "7ae3d278",
   "metadata": {},
   "outputs": [],
   "source": [
    "response = supervisor.invoke(\n",
    "    {\"messages\": \n",
    "        [\n",
    "            {\"role\": \"user\", \"content\": \"Remove the duplicate that you have in the database\"}\n",
    "        ]\n",
    "    },\n",
    "    config\n",
    ")\n"
   ]
  }
 ],
 "metadata": {
  "kernelspec": {
   "display_name": "venv",
   "language": "python",
   "name": "python3"
  },
  "language_info": {
   "codemirror_mode": {
    "name": "ipython",
    "version": 3
   },
   "file_extension": ".py",
   "mimetype": "text/x-python",
   "name": "python",
   "nbconvert_exporter": "python",
   "pygments_lexer": "ipython3",
   "version": "3.13.5"
  }
 },
 "nbformat": 4,
 "nbformat_minor": 5
}
