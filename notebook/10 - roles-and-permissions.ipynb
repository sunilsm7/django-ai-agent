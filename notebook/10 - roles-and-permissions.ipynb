{
 "cells": [
  {
   "cell_type": "code",
   "execution_count": null,
   "id": "77feed72",
   "metadata": {},
   "outputs": [],
   "source": [
    "import setup  # notebooks/setup.py\n",
    "setup.init()"
   ]
  },
  {
   "cell_type": "code",
   "execution_count": null,
   "id": "4a5a78cd",
   "metadata": {},
   "outputs": [],
   "source": [
    "import uuid"
   ]
  },
  {
   "cell_type": "code",
   "execution_count": null,
   "id": "c65c237f",
   "metadata": {},
   "outputs": [],
   "source": [
    "from mypermit import permit_client\n",
    "\n",
    "permit = permit_client"
   ]
  },
  {
   "cell_type": "code",
   "execution_count": null,
   "id": "a47d610e",
   "metadata": {},
   "outputs": [],
   "source": [
    "await permit.api.users.list()"
   ]
  },
  {
   "cell_type": "code",
   "execution_count": null,
   "id": "f97fc2ba",
   "metadata": {},
   "outputs": [],
   "source": [
    "from django.contrib.auth import get_user_model\n",
    "\n",
    "User = get_user_model()"
   ]
  },
  {
   "cell_type": "code",
   "execution_count": null,
   "id": "4b7d0b40",
   "metadata": {},
   "outputs": [],
   "source": [
    "for u in User.objects.all():\n",
    "    user_data = {\n",
    "        \"key\": f\"{u.id}\",\n",
    "        \"email\": f\"{u.email}\"\n",
    "    }\n",
    "    response = await permit.api.users.sync(user_data)\n",
    "    print(response)"
   ]
  },
  {
   "cell_type": "code",
   "execution_count": null,
   "id": "e8ed1a92",
   "metadata": {},
   "outputs": [],
   "source": [
    "await permit.check(\"user_id:1\", \"read\", \"document\")"
   ]
  },
  {
   "cell_type": "code",
   "execution_count": null,
   "id": "b09c60b9",
   "metadata": {},
   "outputs": [],
   "source": [
    "resources = [\n",
    "    {\n",
    "        \"name\": \"Document\",\n",
    "        \"key\": \"document\",\n",
    "        \"actions\": {\n",
    "            \"read\": {},\n",
    "            \"create\": {},\n",
    "            \"update\": {},\n",
    "            \"delete\": {}\n",
    "        }\n",
    "    },\n",
    "    {\n",
    "        \"name\": \"Movie Discovery Resource\",\n",
    "        \"key\": \"movie_discovery\",\n",
    "        \"actions\": {\n",
    "            \"search\": {},\n",
    "            \"detail\": {}\n",
    "        }\n",
    "    }\n",
    "]"
   ]
  },
  {
   "cell_type": "code",
   "execution_count": null,
   "id": "0ff1fed1",
   "metadata": {},
   "outputs": [],
   "source": [
    "permissions = [\n",
    "    \"document:read\",\n",
    "    \"movie_discovery:search\",\n",
    "    \"movie_discovery:detail\"\n",
    "]"
   ]
  },
  {
   "cell_type": "code",
   "execution_count": null,
   "id": "cb4415d5",
   "metadata": {},
   "outputs": [],
   "source": [
    "roles = [\n",
    "    {\n",
    "        \"name\": \"Manager\",\n",
    "        \"key\": \"manager\",\n",
    "        \"permissions\": [\n",
    "            \"document:read\",\n",
    "            \"document:create\",\n",
    "            \"document:update\",\n",
    "            \"document:delete\",\n",
    "            \"movie_discovery:search\",\n",
    "            \"movie_discovery:detail\"\n",
    "        ]\n",
    "    },\n",
    "    {\n",
    "        \"name\": \"Viewer\",\n",
    "        \"key\": \"viewer\",\n",
    "        \"permissions\": [\n",
    "            \"document:read\",\n",
    "            \"movie_discovery:search\",\n",
    "            \"movie_discovery:detail\"\n",
    "        ]\n",
    "    }\n",
    "]"
   ]
  },
  {
   "cell_type": "code",
   "execution_count": null,
   "id": "f88bd2ad",
   "metadata": {},
   "outputs": [],
   "source": [
    "from permit import PermitApiError"
   ]
  },
  {
   "cell_type": "code",
   "execution_count": null,
   "id": "44ae8a80",
   "metadata": {},
   "outputs": [],
   "source": [
    "\n",
    "async def get_or_create_resource(resource_data: dict):\n",
    "    resource_key = resource_data.get(\"key\")\n",
    "    try:\n",
    "        _resource = await permit.api.resources.get(resource_key)\n",
    "    except PermitApiError as e:\n",
    "        if e.status_code == 404:\n",
    "            _resource = await permit.api.resources.create(resource_data)\n",
    "        else:\n",
    "            _resource = None\n",
    "            raise\n",
    "    return _resource"
   ]
  },
  {
   "cell_type": "code",
   "execution_count": null,
   "id": "940610ce",
   "metadata": {},
   "outputs": [],
   "source": [
    "# for resurce_data in resources:\n",
    "#     response = await get_or_create_resource(resurce_data)\n",
    "#     print(response)"
   ]
  },
  {
   "cell_type": "code",
   "execution_count": null,
   "id": "e7f850a3",
   "metadata": {},
   "outputs": [],
   "source": [
    "\n",
    "\n",
    "async def get_or_create_role(role_data: dict):\n",
    "    _key = role_data.get(\"key\")\n",
    "    try:\n",
    "        _resource = await permit.api.roles.get(_key)\n",
    "    except PermitApiError as e:\n",
    "        if e.status_code == 404:\n",
    "            _resource = await permit.api.roles.create(role_data)\n",
    "        else:\n",
    "            _resource = None\n",
    "            raise\n",
    "    return _resource"
   ]
  },
  {
   "cell_type": "code",
   "execution_count": null,
   "id": "b1bc0d15",
   "metadata": {},
   "outputs": [],
   "source": [
    "# for resurce_data in roles:\n",
    "#     response = await get_or_create_role(resurce_data)\n",
    "#     print(response)"
   ]
  },
  {
   "cell_type": "code",
   "execution_count": 28,
   "id": "31bc6495",
   "metadata": {},
   "outputs": [],
   "source": [
    "user = User.objects.all().last()"
   ]
  },
  {
   "cell_type": "code",
   "execution_count": 32,
   "id": "5207546a",
   "metadata": {},
   "outputs": [
    {
     "data": {
      "text/plain": [
       "RoleAssignmentRead(id=UUID('3b4df538-7e5b-4332-9e81-aa70b666c906'), user='2', role='viewer', tenant='default', resource_instance=None, resource_instance_id=None, user_id=UUID('497632ef-ba9f-4004-bfae-7566a612b31e'), role_id=UUID('d5edc6a4-d720-4e82-b7ac-97d9097304b3'), tenant_id=UUID('4963f3ac-10e7-4e0c-a55b-71906765891e'), organization_id=UUID('370e006e-8ae9-4d9b-ac3e-6ff175a13598'), project_id=UUID('f8c773b5-c486-49a8-b77e-d2c880a31bcf'), environment_id=UUID('2ed5a523-961e-4984-a109-9e327a92efa3'), created_at=datetime.datetime(2025, 6, 19, 9, 57, 58, tzinfo=datetime.timezone.utc))"
      ]
     },
     "execution_count": 32,
     "metadata": {},
     "output_type": "execute_result"
    }
   ],
   "source": [
    "response = await permit.api.users.assign_role({\n",
    "    \"user\": f\"{user.id}\",\n",
    "    \"role\": \"viewer\",\n",
    "    \"tenant\": \"default\"\n",
    "})\n",
    "response"
   ]
  },
  {
   "cell_type": "code",
   "execution_count": 35,
   "id": "ab165177",
   "metadata": {},
   "outputs": [
    {
     "data": {
      "text/plain": [
       "True"
      ]
     },
     "execution_count": 35,
     "metadata": {},
     "output_type": "execute_result"
    }
   ],
   "source": [
    "await permit.check(f\"{user.id}\", \"read\", 'document')"
   ]
  }
 ],
 "metadata": {
  "kernelspec": {
   "display_name": "venv",
   "language": "python",
   "name": "python3"
  },
  "language_info": {
   "codemirror_mode": {
    "name": "ipython",
    "version": 3
   },
   "file_extension": ".py",
   "mimetype": "text/x-python",
   "name": "python",
   "nbconvert_exporter": "python",
   "pygments_lexer": "ipython3",
   "version": "3.13.5"
  }
 },
 "nbformat": 4,
 "nbformat_minor": 5
}
