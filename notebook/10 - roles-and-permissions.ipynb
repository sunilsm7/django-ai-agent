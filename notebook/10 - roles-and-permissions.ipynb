{
 "cells": [
  {
   "cell_type": "code",
   "execution_count": 12,
   "id": "77feed72",
   "metadata": {},
   "outputs": [],
   "source": [
    "import setup  # notebooks/setup.py\n",
    "setup.init()"
   ]
  },
  {
   "cell_type": "code",
   "execution_count": 13,
   "id": "b09c60b9",
   "metadata": {},
   "outputs": [],
   "source": [
    "resources = [\n",
    "    {\n",
    "        \"name\": \"Document\",\n",
    "        \"key\": \"document\",\n",
    "        \"actions\": {\n",
    "            \"read\": {},\n",
    "            \"create\": {},\n",
    "            \"update\": {},\n",
    "            \"delete\": {}\n",
    "        }\n",
    "    },\n",
    "    {\n",
    "        \"name\": \"Movie Discovery Resource\",\n",
    "        \"key\": \"movie_discovery\",\n",
    "        \"actions\": {\n",
    "            \"search\": {},\n",
    "            \"detail\": {}\n",
    "        }\n",
    "    }\n",
    "]"
   ]
  },
  {
   "cell_type": "code",
   "execution_count": 14,
   "id": "0ff1fed1",
   "metadata": {},
   "outputs": [],
   "source": [
    "permissions = [\n",
    "    \"document:read\",\n",
    "    \"movie_discovery:search\",\n",
    "    \"movie_discovery:detail\"\n",
    "]"
   ]
  },
  {
   "cell_type": "code",
   "execution_count": 15,
   "id": "cb4415d5",
   "metadata": {},
   "outputs": [],
   "source": [
    "roles = [\n",
    "    {\n",
    "        \"name\": \"Manager\",\n",
    "        \"key\": \"manager\",\n",
    "        \"permissions\": [\n",
    "            \"document:read\",\n",
    "            \"document:create\",\n",
    "            \"document:update\",\n",
    "            \"document:delete\",\n",
    "            \"movie_discovery:search\",\n",
    "            \"movie_discovery:detail\"\n",
    "        ]\n",
    "    },\n",
    "    {\n",
    "        \"name\": \"Viewer\",\n",
    "        \"key\": \"viewer\",\n",
    "        \"permissions\": [\n",
    "            \"document:read\",\n",
    "            \"movie_discovery:search\",\n",
    "            \"movie_discovery:detail\"\n",
    "        ]\n",
    "    }\n",
    "]"
   ]
  }
 ],
 "metadata": {
  "kernelspec": {
   "display_name": "venv",
   "language": "python",
   "name": "python3"
  },
  "language_info": {
   "codemirror_mode": {
    "name": "ipython",
    "version": 3
   },
   "file_extension": ".py",
   "mimetype": "text/x-python",
   "name": "python",
   "nbconvert_exporter": "python",
   "pygments_lexer": "ipython3",
   "version": "3.13.5"
  }
 },
 "nbformat": 4,
 "nbformat_minor": 5
}
